{
 "cells": [
  {
   "cell_type": "markdown",
   "id": "1bc16279",
   "metadata": {},
   "source": [
    "## Section1: Importing the necessary library for Statistical and Data Analysis"
   ]
  },
  {
   "cell_type": "code",
   "execution_count": null,
   "id": "b52deec5",
   "metadata": {},
   "outputs": [],
   "source": [
    "import numpy as np\n",
    "import pandas as pd\n",
    "import matplotlib.pyplot as plt\n",
    "import seaborn as sns\n",
    "from datetime import datetime, date\n",
    "import warnings\n",
    "warnings.filterwarnings(\"ignore\")\n"
   ]
  },
  {
   "cell_type": "markdown",
   "id": "c5327ecd",
   "metadata": {},
   "source": [
    "### Q1.Display the sheet names in the Data file.\n",
    "\n"
   ]
  },
  {
   "cell_type": "code",
   "execution_count": null,
   "id": "47a54921",
   "metadata": {},
   "outputs": [],
   "source": [
    "xl = pd.ExcelFile('HospitalDatabase .xlsx')\n",
    "print(xl.sheet_names)\n"
   ]
  },
  {
   "cell_type": "markdown",
   "id": "6965588e",
   "metadata": {},
   "source": [
    "## Section 2:Reading all sheets from dataset"
   ]
  },
  {
   "cell_type": "code",
   "execution_count": null,
   "id": "3bc9dca9",
   "metadata": {},
   "outputs": [],
   "source": [
    "#Reading the Patients sheet\n",
    "df_pa=pd.read_excel('HospitalDatabase .xlsx','Patients')\n",
    "\n",
    "#Reading the EDVisits sheet\n",
    "df_ED=pd.read_excel('HospitalDatabase .xlsx','EDVisits')\n",
    "\n",
    "#Reading the AmbulatoryVisits sheet\n",
    "df_amb=pd.read_excel('HospitalDatabase .xlsx','AmbulatoryVisits')\n",
    "\n",
    "#Reading the ReAdmissionRegistry sheet\n",
    "df_re=pd.read_excel('HospitalDatabase .xlsx','ReAdmissionRegistry')\n",
    "\n",
    "#Reading the Discharges sheet\n",
    "df_dis=pd.read_excel('HospitalDatabase .xlsx','Discharges')\n",
    "\n",
    "#Reading the Providers sheet\n",
    "df_pro=pd.read_excel('HospitalDatabase .xlsx','Providers')\n",
    "\n",
    "#Reading the EDUnique sheet\n",
    "df_EDU=pd.read_excel('HospitalDatabase .xlsx','EDUnique')\n"
   ]
  },
  {
   "cell_type": "markdown",
   "id": "a4846766",
   "metadata": {},
   "source": [
    "### Q2. Get the sample data from the dataset"
   ]
  },
  {
   "cell_type": "code",
   "execution_count": null,
   "id": "e7fe9a3d",
   "metadata": {},
   "outputs": [],
   "source": [
    "\n",
    "\n",
    "ls=[df_pa,df_re,df_ED,df_amb,df_EDU,df_dis,df_pro]\n",
    "ls_name = ['Patients','Readmission Registry','ED Visits' ,'Ambulatory Visits','ED Unique','Discharges','Providers']\n",
    "\n",
    "for i, value in enumerate(ls_name):\n",
    "        print(\"DataFrame:\",value)\n",
    "        df=pd.DataFrame(ls[i])\n",
    "        print(df.sample(5))\n"
   ]
  },
  {
   "cell_type": "markdown",
   "id": "61004bc3",
   "metadata": {},
   "source": [
    "## Section3: Exploratory Data Analysis"
   ]
  },
  {
   "cell_type": "markdown",
   "id": "ae9487c5",
   "metadata": {},
   "source": [
    "### Q3.Get the column names of all the datasets"
   ]
  },
  {
   "cell_type": "code",
   "execution_count": null,
   "id": "f24bda21",
   "metadata": {},
   "outputs": [],
   "source": [
    "ls=[df_pa,df_re,df_ED,df_amb,df_EDU,df_dis,df_pro]\n",
    "ls_name = ['Patients','Readmission Registry','ED Visits' ,'Ambulatory Visits','ED Unique','Discharges','Providers']\n",
    "\n",
    "for i, value in enumerate(ls_name):\n",
    "        print(\"DataFrame:\",value)\n",
    "        df=pd.DataFrame(ls[i])\n"
   ]
  },
  {
   "cell_type": "markdown",
   "id": "c60c08a9",
   "metadata": {},
   "source": [
    "### Q4.Get the information about columns, null values and data types of all dataframes\n"
   ]
  },
  {
   "cell_type": "code",
   "execution_count": null,
   "id": "fb3e1fb8",
   "metadata": {},
   "outputs": [],
   "source": [
    "ls=[df_pa,df_re,df_ED,df_amb,df_EDU,df_dis,df_pro]\n",
    "ls_name = ['Patients','Readmission Registry','ED Visits' ,'Ambulatory Visits','ED Unique','Discharges','Providers']\n",
    "\n",
    "for i, value in enumerate(ls_name):\n",
    "        print(\"DataFrame:\",value)\n",
    "        df=pd.DataFrame(ls[i])\n",
    "        print(df.columns)\n"
   ]
  },
  {
   "cell_type": "markdown",
   "id": "1304ed6f",
   "metadata": {},
   "source": [
    "### Q5.Get the dimensions of all datasets using loops\n",
    "\n"
   ]
  },
  {
   "cell_type": "code",
   "execution_count": null,
   "id": "a33a1436",
   "metadata": {},
   "outputs": [],
   "source": [
    "ls=[df_pa,df_re,df_ED,df_amb,df_EDU,df_dis,df_pro]\n",
    "ls_name = ['Patients','Readmission Registry','ED Visits' ,'Ambulatory Visits','ED Unique','Discharges','Providers']\n",
    "\n",
    "for i, value in enumerate(ls_name):\n",
    "        print(\"DataFrame:\",value)\n",
    "        df=pd.DataFrame(ls[i])\n",
    "        print(df.shape)\n"
   ]
  },
  {
   "cell_type": "markdown",
   "id": "59c4e192",
   "metadata": {},
   "source": [
    "### Q6.Describe the dataset"
   ]
  },
  {
   "cell_type": "code",
   "execution_count": null,
   "id": "bea81887",
   "metadata": {},
   "outputs": [],
   "source": [
    "ls=[df_pa,df_re,df_ED,df_amb,df_EDU,df_dis,df_pro]\n",
    "ls_name = ['Patients','Readmission Registry','ED Visits' ,'Ambulatory Visits','ED Unique','Discharges','Providers']\n",
    "\n",
    "for i, value in enumerate(ls_name):\n",
    "        print(\"DataFrame:\",value)\n",
    "        df=pd.DataFrame(ls[i])\n",
    "        print(df.describe().T)\n",
    "\n"
   ]
  },
  {
   "cell_type": "markdown",
   "id": "01260cd3",
   "metadata": {},
   "source": [
    "### Q7:Analyse the data to determine the null values and its percentage"
   ]
  },
  {
   "cell_type": "code",
   "execution_count": null,
   "id": "4f15a92a",
   "metadata": {},
   "outputs": [],
   "source": [
    "ls=[df_pa,df_re,df_ED,df_amb,df_EDU,df_dis,df_pro]\n",
    "ls_name = ['Patients','Readmission Registry','ED Visits' ,'Ambulatory Visits','ED Unique','Discharges','Providers']\n",
    "\n",
    "for i, value in enumerate(ls_name):\n",
    "        print(\"DataFrame:\",value)\n",
    "        df=pd.DataFrame(ls[i])\n",
    "        print('Are there any Null values?(True/False):',df.isnull().values.any()) \n",
    "        print('Sum of null values for each column is','\\n',df.isnull().sum())\n",
    "        print('Percentage of null values:','\\n',df.isnull().sum() * 100 / len(df))"
   ]
  },
  {
   "cell_type": "markdown",
   "id": "fbc8c5d3",
   "metadata": {},
   "source": [
    "## Section 4: EDA using pandas-profiling"
   ]
  },
  {
   "cell_type": "markdown",
   "id": "92976994",
   "metadata": {},
   "source": [
    "### Q8. Perform Univariate analysis"
   ]
  },
  {
   "cell_type": "code",
   "execution_count": null,
   "id": "4b7421ee",
   "metadata": {},
   "outputs": [],
   "source": [
    "#pip install pandas-profiling\n",
    "from pandas_profiling import ProfileReport\n"
   ]
  },
  {
   "cell_type": "code",
   "execution_count": null,
   "id": "2911f8a9",
   "metadata": {},
   "outputs": [],
   "source": [
    "#pandas-profiling for Readmission registry\n",
    "profile = ProfileReport(df_re, title='Readmission registry Profiling Report', explorative=True)\n",
    "profile\n"
   ]
  },
  {
   "cell_type": "code",
   "execution_count": null,
   "id": "19ae389f",
   "metadata": {},
   "outputs": [],
   "source": [
    "#pandas-profiling for EDVisits\n",
    "profile = ProfileReport(df_ED, title='EDVisits Profiling Report', explorative=True)\n",
    "profile\n"
   ]
  },
  {
   "cell_type": "code",
   "execution_count": null,
   "id": "d2d65978",
   "metadata": {},
   "outputs": [],
   "source": [
    "#pandas-profiling for Patients\n",
    "profile = ProfileReport(df_pa, title='Patients Profiling Report', explorative=True)\n",
    "profile\n"
   ]
  },
  {
   "cell_type": "code",
   "execution_count": null,
   "id": "094b5227",
   "metadata": {},
   "outputs": [],
   "source": [
    "#pandas-profiling for Discharge Disposition\n",
    "profile = ProfileReport(df_dis, title='Discharge Disposition Profiling Report', explorative=True)\n",
    "profile\n"
   ]
  },
  {
   "cell_type": "markdown",
   "id": "76d578af",
   "metadata": {},
   "source": [
    "## Section 5: Bivariate and Multivariate analysis\n",
    "\n",
    " "
   ]
  },
  {
   "cell_type": "markdown",
   "id": "6a16b09e",
   "metadata": {},
   "source": [
    "#### Joining tables for performing multivariate analysis"
   ]
  },
  {
   "cell_type": "code",
   "execution_count": null,
   "id": "b1bbc32c",
   "metadata": {},
   "outputs": [],
   "source": [
    "#Merging patients and ED visits\n",
    "df_pa_ED=pd.merge(df_pa,df_ED,how='inner')\n",
    "df_pa_ED\n"
   ]
  },
  {
   "cell_type": "code",
   "execution_count": null,
   "id": "91cfe955",
   "metadata": {},
   "outputs": [],
   "source": [
    "# merging patients & readmission Registry\n",
    "df_pa_re=pd.merge(df_pa,df_re,how='inner')\n",
    "df_pa_re\n"
   ]
  },
  {
   "cell_type": "code",
   "execution_count": null,
   "id": "b3b30489",
   "metadata": {},
   "outputs": [],
   "source": [
    "#merging patients,Ambulatory visits & providers\n",
    "\n",
    "df_pa_amb=pd.merge(df_pa, df_amb, how='inner',left_on=['PatientID'], right_on = ['PatientMRN'])\n",
    "df_pa_amb_pro=pd.merge(df_pa_amb,df_pro,how='inner',on=['ProviderID'])\n",
    "df_pa_amb_pro\n"
   ]
  },
  {
   "cell_type": "markdown",
   "id": "055b5763",
   "metadata": {},
   "source": [
    "####  Bivariate and Multivariate analysis"
   ]
  },
  {
   "cell_type": "markdown",
   "id": "1853accd",
   "metadata": {},
   "source": [
    "### Q9 : Plotting categorical data. Draw a plot depictiing the diversity of the patients"
   ]
  },
  {
   "cell_type": "code",
   "execution_count": null,
   "id": "64c030fe",
   "metadata": {},
   "outputs": [],
   "source": [
    "sns.catplot(\n",
    "    data=df_pa, y=\"Language\", hue=\"Race\", kind=\"count\",\n",
    "    palette=\"pastel\", edgecolor=\".6\",\n",
    ")"
   ]
  },
  {
   "cell_type": "markdown",
   "id": "e9719a4b",
   "metadata": {},
   "source": [
    "#### Analysis: \n",
    "The Data has more English speakers than Spanish speakers and a higher number of Black african/ American race patients than White race patients.\n"
   ]
  },
  {
   "cell_type": "markdown",
   "id": "ac5970c4",
   "metadata": {},
   "source": [
    "### Q10.Multivariate analysis of Blood Pressure Systolic, Diastolic and Pulse."
   ]
  },
  {
   "cell_type": "code",
   "execution_count": null,
   "id": "6e724e5c",
   "metadata": {},
   "outputs": [],
   "source": [
    "%matplotlib notebook\n",
    "\n",
    "df=df_amb.copy()\n",
    "plt.figure(figsize=(10,8))\n",
    "ax = plt.axes(projection='3d')\n",
    "fg = ax.scatter3D(df_amb['BloodPressureSystolic'],df_amb['BloodPressureDiastolic'],df_amb['Pulse'],\n",
    "                 s = df_amb['Pulse'],c = df_amb['BloodPressureSystolic'],depthshade = True)\n",
    "ax.set_xlabel('BloodPressureSystolic')\n",
    "ax.set_ylabel('BloodPressureDiastolic')\n",
    "ax.set_zlabel('Pulse')\n",
    "plt.colorbar(fg)\n",
    "plt.show()"
   ]
  },
  {
   "cell_type": "markdown",
   "id": "a3c2a234",
   "metadata": {},
   "source": [
    "#### Analysis:\n",
    "Normal blood pressure for most adults is defined as a systolic pressure of less than 120 and a diastolic pressure of less than 80\n",
    "    From the above plot it can be seen that most of th patient who have been admitted have higher Blood Pressure ranges. The patients marked in darker shade are the ones having normal or near normal Blood pressure.\n",
    "    The patients having higher or lower pulse ranges are having varying levels of Blood pressure Systolic and Diastolic."
   ]
  },
  {
   "cell_type": "markdown",
   "id": "d30ab8cc",
   "metadata": {},
   "source": [
    "### Q11. Analyse Patients table to determine the amount of patients by gender and Reasons for visitng the ED"
   ]
  },
  {
   "cell_type": "code",
   "execution_count": null,
   "id": "d0634287",
   "metadata": {},
   "outputs": [],
   "source": [
    "plt.figure ( figsize = ( 10,6 ) )\n",
    "sns.swarmplot ( x = 'ReasonForVisit' , y = 'PatientID' , hue = 'Gender', data = df_pa_ED )\n",
    "plt.xticks ( rotation = 70 )\n",
    "plt.show ( )\n",
    "                  "
   ]
  },
  {
   "cell_type": "markdown",
   "id": "79c0aac5",
   "metadata": {},
   "source": [
    "#### Analysis:\n",
    "\n",
    "One thing that stands out from the chart says that only one patient with cough wa admitted to ED and the patient was a Male. Most of the patients have visited for Pneumonia and Fever."
   ]
  },
  {
   "cell_type": "markdown",
   "id": "66480553",
   "metadata": {},
   "source": [
    "### Q12. Analyse ED visits table to determine the Age of patients by the Acuity during their admission. Mark difference using the gender."
   ]
  },
  {
   "cell_type": "markdown",
   "id": "ce2caca8",
   "metadata": {},
   "source": [
    "#### Generating Age from Date of Visit"
   ]
  },
  {
   "cell_type": "code",
   "execution_count": null,
   "id": "86e31f44",
   "metadata": {},
   "outputs": [],
   "source": [
    "df_pa1=df_pa[['PatientID','DateOfBirth']]\n",
    "df_EDU1=df_EDU[['PatientID','VisitDate']]\n",
    "\n",
    "df1=pd.merge(df_pa1,df_EDU1, how=\"inner\", on=[\"PatientID\"])\n",
    "\n",
    "date1=df1['VisitDate'].dt.date\n",
    "dob1=df1['DateOfBirth'].dt.date\n",
    "df_pa_ED['Age']=(round(((pd.to_datetime(date1) -  pd.to_datetime(dob1)).dt.days / 365.25),0)).astype(int)\n",
    "df_pa_re['Age']=(round(((pd.to_datetime(date1) -  pd.to_datetime(dob1)).dt.days / 365.25),0)).astype(int)\n",
    "\n",
    "#Find age range of data\n",
    "df_pa_ED['Age'].agg(['min', 'max'])\n",
    "\n",
    "#Bin Ages in the column Age_bins\n",
    "bin_labels = ['33-40', '41-46', '47-54', '55-60']\n",
    "\n",
    "#Divinding age into quartiles(Cuts the data into 4 quartiles)\n",
    "df_pa_ED['Age_bins'] = pd.qcut(df_pa_ED['Age'],\n",
    "                              q=[0,0.25,  0.5, 0.75,1],\n",
    "                              labels=bin_labels)\n",
    "df_pa_ED.head()\n",
    "\n"
   ]
  },
  {
   "cell_type": "markdown",
   "id": "06758357",
   "metadata": {},
   "source": [
    "#### Plot"
   ]
  },
  {
   "cell_type": "code",
   "execution_count": null,
   "id": "f88a582c",
   "metadata": {
    "scrolled": true
   },
   "outputs": [],
   "source": [
    "plt.figure ( figsize = ( 9,6 ) )\n",
    "ax=sns.swarmplot ( x = 'Acuity' , y = 'Age' , hue = 'Gender', data = df_pa_ED )\n",
    "sns.move_legend(ax, \"upper right\")\n",
    "plt.xticks ( rotation = 70 )\n",
    "plt.show ( )"
   ]
  },
  {
   "cell_type": "markdown",
   "id": "66857773",
   "metadata": {},
   "source": [
    "### Q13. Analyse ED visits table to determine the number of patients by the Acuity during their admission. Mark difference using the gender."
   ]
  },
  {
   "cell_type": "markdown",
   "id": "ca900301",
   "metadata": {},
   "source": [
    "#### Analysis\n",
    "MOst patients were admitted to ED with Acuity of 1. All the age groups admitted to ED are of the same volume. Age does not make much difference in determining who gets admitted most."
   ]
  },
  {
   "cell_type": "code",
   "execution_count": null,
   "id": "57ef3497",
   "metadata": {},
   "outputs": [],
   "source": [
    "plt.figure ( figsize = ( 9,6 ) )\n",
    "ax=sns.swarmplot ( x = 'Acuity' , y = 'PatientID' , hue = 'Gender', data = df_pa_ED )\n",
    "sns.move_legend(ax, \"upper right\")\n",
    "plt.xticks ( rotation = 70 )\n",
    "plt.show ( )"
   ]
  },
  {
   "cell_type": "markdown",
   "id": "191087ad",
   "metadata": {},
   "source": [
    "#### Analysis:\n",
    "Most male patients have been admitted to the ED than female patients.There are very less number of patients in Acuity 3."
   ]
  },
  {
   "cell_type": "markdown",
   "id": "fb7ec751",
   "metadata": {},
   "source": [
    "### Q14.Plot the relationship between LOS and Expected LOS "
   ]
  },
  {
   "cell_type": "code",
   "execution_count": null,
   "id": "05300714",
   "metadata": {},
   "outputs": [],
   "source": [
    "#Determining the LOS\n",
    "df_re['DischargeDate']=pd.to_datetime(df_re['DischargeDate']).dt.date\n",
    "df_re['AdmissionDate']=pd.to_datetime(df_re['AdmissionDate']).dt.date\n",
    "\n",
    "df_re['LOS'] = (df_re['DischargeDate']-df_re['AdmissionDate'])\n",
    "df_re['LOS'] = df_re['LOS'].astype('timedelta64[D]')\n",
    "df_re['LOS']\n",
    "\n",
    "df_re"
   ]
  },
  {
   "cell_type": "markdown",
   "id": "262425f8",
   "metadata": {},
   "source": [
    "#### Plot"
   ]
  },
  {
   "cell_type": "code",
   "execution_count": null,
   "id": "a49c9efc",
   "metadata": {},
   "outputs": [],
   "source": [
    "plt.figure(figsize=(15,20))\n",
    "sns.relplot(\n",
    "    data=df_re, kind=\"line\",\n",
    "    x=\"LOS\", y=\"ExpectedLOS\", hue=\"DischargeDisposition\")\n",
    "plt.xticks(rotation=70)\n",
    "plt.show()"
   ]
  },
  {
   "cell_type": "markdown",
   "id": "7707e467",
   "metadata": {},
   "source": [
    "#### Analysis:\n",
    "The Expected LOS and LOS have veru small differnece for the patients who are discharged to home. Whereas ,patients who have expired or have been transferred have a lot of differences between Expected LOS and the actual LOS>"
   ]
  },
  {
   "cell_type": "markdown",
   "id": "49bea656",
   "metadata": {},
   "source": [
    "\n",
    "#### Data analysis using Dataprep"
   ]
  },
  {
   "cell_type": "code",
   "execution_count": null,
   "id": "54ab6675",
   "metadata": {},
   "outputs": [],
   "source": [
    "#pip install dataprep\n",
    "from dataprep.eda import create_report \n",
    "report=create_report(df_pa_amb_pro)\n",
    "report"
   ]
  },
  {
   "cell_type": "markdown",
   "id": "6b19520a",
   "metadata": {},
   "source": [
    "#### Analysis:\n",
    "1.Most of the Patients who took treatment in this Health Dataset are peopl who were referred or joined through organisations.\n",
    "2.Group, Inc and LLC are the organisations which have maximum patients in this Data.\n",
    "3.Highest number of patients were born between the year 1975-1980.\n",
    "4.Number of female patients are higher than the male patients.\n",
    "5.Number of patients belonging to BLack/African American race are almost half as that of White patients.\n",
    "6.Majority of the patients are English speaking.\n",
    "7.The number of visits of patients have spiked from April 2019 and reduced by May 2019\n",
    "8.There are only half the amount of new patients than the patients who are coming for follow ups.\n",
    "9.Patients readings for Blood pressure Systolic and Pulse are almost evenly spread across range of data.\n",
    "10.Blood pressure Diastolic readings are normally distributed.\n",
    "11.The Blood Pressure Systolic, Blood Pressure Diastolic and the Pulse have the highest null values.\n",
    "12.Most of the patients visited for Primary care."
   ]
  },
  {
   "cell_type": "code",
   "execution_count": null,
   "id": "ac476d54",
   "metadata": {},
   "outputs": [],
   "source": [
    "from dataprep.eda import create_report \n",
    "report=create_report(df_pa_re)\n",
    "report"
   ]
  },
  {
   "cell_type": "code",
   "execution_count": null,
   "id": "7044ed73",
   "metadata": {},
   "outputs": [],
   "source": [
    "from dataprep.eda import create_report \n",
    "report=create_report(df_pa_ED)\n",
    "report"
   ]
  },
  {
   "cell_type": "markdown",
   "id": "b15421bb",
   "metadata": {},
   "source": [
    "## Section 6: Outlier Analysis"
   ]
  },
  {
   "cell_type": "markdown",
   "id": "aaf20c5d",
   "metadata": {},
   "source": [
    "### Q15. Determine the outliers for every column using boxplots."
   ]
  },
  {
   "cell_type": "code",
   "execution_count": null,
   "id": "a02c8976",
   "metadata": {},
   "outputs": [],
   "source": [
    "plt.figure(figsize=(10,17))\n",
    "plt.style.use('ggplot')\n",
    "plt.subplot(6,2,1)\n",
    "sns.boxplot(x = \"ExpectedLOS\",data = df_re)\n",
    "plt.subplot(6,2,2)\n",
    "sns.boxplot(x = \"ExpectedMortality\",data = df_re)\n",
    "plt.subplot(6,2,3)\n",
    "sns.boxplot(x = \"DaysToReadmission\",data = df_re)\n",
    "plt.subplot(6,2,4)\n",
    "sns.boxplot(x = \"BloodPressureSystolic\",data = df_amb)\n",
    "plt.subplot(6,2,5)\n",
    "sns.boxplot(x = \"BloodPressureDiastolic\",data = df_amb)\n",
    "plt.subplot(6,2,6)\n",
    "sns.boxplot(x = \"Pulse\",data = df_amb)\n",
    "plt.show()"
   ]
  },
  {
   "cell_type": "markdown",
   "id": "ad62596d",
   "metadata": {},
   "source": [
    "Days to readmission has a significant number of outliers. The average days to readmission id 5 for all the patients. All the patients who have been readmitted after 8 days are considered outliers. "
   ]
  },
  {
   "cell_type": "markdown",
   "id": "8ab4fe70",
   "metadata": {},
   "source": [
    "### Q16: Create box plots to determine the outliers for the patients and readmission registry analysis"
   ]
  },
  {
   "cell_type": "code",
   "execution_count": null,
   "id": "972199b4",
   "metadata": {},
   "outputs": [],
   "source": [
    "plt.figure(figsize=(11,7))\n",
    "plt.style.use('ggplot')\n",
    "plt.subplot(2,2,1)\n",
    "sns.boxplot(x = 'ExpectedLOS',y = 'Service',data =df_pa_re)\n",
    "plt.yticks ( rotation = 70 )\n",
    "plt.subplot(2,2,2)\n",
    "sns.boxplot(x = 'ExpectedMortality',y='Service', data =df_pa_re)\n",
    "plt.yticks ( rotation = 70 )\n",
    "plt.subplot(2,2,3)\n",
    "sns.boxplot(x = 'ExpectedLOS', y ='Gender',data =df_pa_re)\n",
    "plt.yticks ( rotation = 70 )"
   ]
  },
  {
   "cell_type": "markdown",
   "id": "dba27374",
   "metadata": {},
   "source": [
    "Expected LOS when plotted with respect to the Service the Patient has undergone, there are outliers present in the data. The ICU Service has the maximum number of outliers followed by the Cardiology Unit."
   ]
  },
  {
   "cell_type": "markdown",
   "id": "6417c3eb",
   "metadata": {},
   "source": [
    "### Q.17. Determine if there are any outliers for the Reason of visit by Age"
   ]
  },
  {
   "cell_type": "code",
   "execution_count": null,
   "id": "b2fe0453",
   "metadata": {},
   "outputs": [],
   "source": [
    "plt.figure(figsize=(11,7))\n",
    "sns.boxplot(x = 'Age',y = 'ReasonForVisit',data =df_pa_ED)\n",
    "plt.show()"
   ]
  },
  {
   "cell_type": "markdown",
   "id": "b710390a",
   "metadata": {},
   "source": [
    "There are no outliers."
   ]
  },
  {
   "cell_type": "markdown",
   "id": "9e7d2698",
   "metadata": {},
   "source": [
    "### Q18.Determine if there are any outliers for the Reason of visit by Age"
   ]
  },
  {
   "cell_type": "code",
   "execution_count": null,
   "id": "866f8df9",
   "metadata": {},
   "outputs": [],
   "source": [
    "plt.figure(figsize=(11,7))\n",
    "sns.boxplot(x = 'Age',y = 'PrimaryDiagnosis',data =df_pa_re)\n",
    "plt.show()"
   ]
  },
  {
   "cell_type": "markdown",
   "id": "4ab66423",
   "metadata": {},
   "source": [
    "### Q19: Create box plots to determine the outlier for patients with provider speciality and Blood pressure and Pulse"
   ]
  },
  {
   "cell_type": "code",
   "execution_count": null,
   "id": "47d050df",
   "metadata": {},
   "outputs": [],
   "source": [
    "#analysing by seperating data by Provider Speciality\n",
    "plt.figure(figsize=(9,6))\n",
    "plt.style.use('ggplot')\n",
    "plt.subplot(2,2,1)\n",
    "sns.boxplot(x = 'BloodPressureSystolic',y ='ProviderSpecialty',data =df_pa_amb_pro)\n",
    "plt.yticks ( rotation = 70 )\n",
    "plt.subplot(2,2,2)\n",
    "sns.boxplot(x = 'BloodPressureDiastolic',y ='ProviderSpecialty', data =df_pa_amb_pro)\n",
    "plt.yticks ( rotation = 70 )\n",
    "plt.subplot(2,2,3)\n",
    "sns.boxplot(x = 'Pulse', y ='ProviderSpecialty',data = df_pa_amb_pro)\n",
    "plt.yticks ( rotation = 70 )\n",
    "plt.show()"
   ]
  },
  {
   "cell_type": "markdown",
   "id": "a09de292",
   "metadata": {},
   "source": [
    "### Q20: Visit type Vs BP and Pulse"
   ]
  },
  {
   "cell_type": "code",
   "execution_count": null,
   "id": "36ede332",
   "metadata": {},
   "outputs": [],
   "source": [
    "#analysing by Visit Type\n",
    "plt.figure(figsize=(8,6))\n",
    "plt.style.use('ggplot')\n",
    "plt.subplot(2,2,1)\n",
    "sns.boxplot(x = 'BloodPressureSystolic',y ='VisitType',data =df_pa_amb_pro)\n",
    "plt.subplot(2,2,2)\n",
    "sns.boxplot(x = 'BloodPressureDiastolic',y ='VisitType', data =df_pa_amb_pro)\n",
    "plt.subplot(2,2,3)\n",
    "sns.boxplot(x = 'Pulse', y ='VisitType',data = df_pa_amb_pro)"
   ]
  },
  {
   "cell_type": "markdown",
   "id": "f9b35a5e",
   "metadata": {},
   "source": [
    "The ambulatory visits do not have any significant outliers."
   ]
  },
  {
   "cell_type": "markdown",
   "id": "5bea0782",
   "metadata": {},
   "source": [
    "## Section 7 : Other Data Analysis and  Questions"
   ]
  },
  {
   "cell_type": "markdown",
   "id": "118fd570",
   "metadata": {},
   "source": [
    "### Q21.Find patients who took cadiology service, who are female and speaks spanish"
   ]
  },
  {
   "cell_type": "code",
   "execution_count": null,
   "id": "386a4ede",
   "metadata": {},
   "outputs": [],
   "source": [
    "resultE1 = pd.merge(df_pa,df_dis, how=\"left\", on=[\"PatientID\"])\n",
    "fltE1=(resultE1['Service']=='Cardiology') & (resultE1['Gender']=='Female') & (resultE1['Language']=='Spanish') \n",
    "resultE2=resultE1.loc[fltE1]\n",
    "resultE2\n"
   ]
  },
  {
   "cell_type": "markdown",
   "id": "3776eb51",
   "metadata": {},
   "source": [
    "### Q22. If Patients gender is female add Ms. and for male patients add Mr ."
   ]
  },
  {
   "cell_type": "code",
   "execution_count": null,
   "id": "b6a1c433",
   "metadata": {},
   "outputs": [],
   "source": [
    "Pat = df_pa.copy()\n",
    "Pat['Name'] = df_pa['FirstName']+\" \"+ df_pa['LastName']\n",
    "Pat['Name']\n",
    "\n",
    "for i in ('Male','Female'):\n",
    "    if i=='Female':\n",
    "        Pat['Full_name']= 'Mr.'+Pat[\"Name\"].map(str)\n",
    "    else:\n",
    "        Pat['Full_name']= 'Ms.'+Pat[\"Name\"].map(str)\n",
    "    \n",
    "Pat"
   ]
  },
  {
   "cell_type": "markdown",
   "id": "860e8088",
   "metadata": {},
   "source": [
    "### Q23.which primary diagnosis has highest readmission rate?\n"
   ]
  },
  {
   "cell_type": "code",
   "execution_count": null,
   "id": "a71f9cd7",
   "metadata": {},
   "outputs": [],
   "source": [
    "df_re['ReadmissionFlag'].fillna(0,inplace=True)\n",
    "\n",
    "df=df_re.groupby('PrimaryDiagnosis')['ReadmissionFlag'].count()\n",
    "\n",
    "#change series top Dataframe\n",
    "df=pd.DataFrame(df)\n",
    "\n",
    "#Reason of visit is changed from index to columns and count of DischargeDisposition is change to patient_count\n",
    "df.reset_index(inplace=True)\n",
    "df = df.rename(columns = {'ReadmissionFlag':'Highest Readmissionrate based on Primary Diagnosis'})\n",
    "\n",
    "df['Readmission_Rate']=df['Highest Readmissionrate based on Primary Diagnosis']*100/(df['Highest Readmissionrate based on Primary Diagnosis']).sum()\n",
    "df.sort_values(by='Readmission_Rate',ascending=False).head(1)\n"
   ]
  },
  {
   "cell_type": "markdown",
   "id": "d3aec2d3",
   "metadata": {},
   "source": [
    "### Q24.Show the lowest readmission rate based on the service\n"
   ]
  },
  {
   "cell_type": "code",
   "execution_count": null,
   "id": "1778ca26",
   "metadata": {},
   "outputs": [],
   "source": [
    "df_re['ReadmissionFlag'].fillna(0,inplace=True)\n",
    "\n",
    "df=df_re.groupby('Service')['ReadmissionFlag'].count()\n",
    "\n",
    "#change series top Dataframe\n",
    "df=pd.DataFrame(df)\n",
    "\n",
    "#Reason of visit is changed from index to columns and count of DischargeDisposition is change to patient_count\n",
    "df.reset_index(inplace=True)\n",
    "df = df.rename(columns = {'ReadmissionFlag':'count of readmissionflag'})\n",
    "\n",
    "df['Readmission_Rate']=df['count of readmissionflag']*100/(df['count of readmissionflag']).sum()\n",
    "df.sort_values(by='Readmission_Rate',ascending=True).head(1)\n"
   ]
  },
  {
   "cell_type": "markdown",
   "id": "4e62d205",
   "metadata": {},
   "source": [
    "### Q25.what is the most service used by patients in month wise\n"
   ]
  },
  {
   "cell_type": "code",
   "execution_count": null,
   "id": "f1498ba1",
   "metadata": {},
   "outputs": [],
   "source": [
    "df=df_amb.copy()\n",
    "df['month'] = pd.DatetimeIndex(df_amb['DateofVisit']).month\n",
    "result=pd.merge(df_re, df, how='inner',left_on=['PatientID'], right_on = ['PatientMRN'])\n",
    "#result = pd.merge(df_re,df,how='inner',on = [['PatientID','PatientMRN']])\n",
    "result\n",
    "\n",
    "#result.groupby(['Service','month'])['PatientID'].count()\n"
   ]
  },
  {
   "cell_type": "markdown",
   "id": "f45e0488",
   "metadata": {},
   "source": [
    "### Q26.Show the highest readmission rate based on the service\n"
   ]
  },
  {
   "cell_type": "code",
   "execution_count": null,
   "id": "f5be3658",
   "metadata": {},
   "outputs": [],
   "source": [
    "re_ad=df_re['Service'].value_counts().sort_values(ascending=False)\n",
    "print('highest readmission rate based on the service', re_ad.head(1))\n"
   ]
  },
  {
   "cell_type": "markdown",
   "id": "5c536120",
   "metadata": {},
   "source": [
    "### Q27.Most frequent Acuity of patients visited for ED department(using array)"
   ]
  },
  {
   "cell_type": "code",
   "execution_count": null,
   "id": "c0069549",
   "metadata": {},
   "outputs": [],
   "source": [
    "x =np.array(df_ED['Acuity'])\n",
    "#print(\"Most patients visited ED have an Acuity of \" ,i)\n",
    "y = np.bincount(x)\n",
    "maximum = max(y)\n",
    "  \n",
    "for i in range(len(y)):\n",
    "    if y[i] == maximum:\n",
    "        print(\"Most patients visited ED have an Acuity of \" ,i)"
   ]
  }
 ],
 "metadata": {
  "kernelspec": {
   "display_name": "Python 3 (ipykernel)",
   "language": "python",
   "name": "python3"
  },
  "language_info": {
   "codemirror_mode": {
    "name": "ipython",
    "version": 3
   },
   "file_extension": ".py",
   "mimetype": "text/x-python",
   "name": "python",
   "nbconvert_exporter": "python",
   "pygments_lexer": "ipython3",
   "version": "3.9.7"
  }
 },
 "nbformat": 4,
 "nbformat_minor": 5
}
